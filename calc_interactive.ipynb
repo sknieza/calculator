{
 "cells": [
  {
   "cell_type": "markdown",
   "id": "9d5cd89f",
   "metadata": {},
   "source": [
    "# Demonstration of the `interactive` mode\n",
    "\n",
    "The `calculator` module also has the instance.interactive() method, which initializes the interactive calculator. It leverages the class methods, and performs the following operations.\n",
    "\n",
    "## Available operations:\n",
    "- Add two numbers together (a + b)\n",
    "- Subtract one number from another (a - b)\n",
    "- Multiply two numbers (a * b)\n",
    "- Divide number by another (a / b)\n",
    "- Raise the number by the power of another (a ** b)\n",
    "\n",
    "**Notice** that interactive mode doesn't have the `root` option as there's no specific root operator in mathematical expressions. However, remember, that the root of the `n` degree is also the exponentiation by the power of `1/n`. Thus, the cubic root of 27 can be expressed as `27 ** 1/3`.\n",
    "\n",
    "## Expected input\n",
    "This interactive mode expects a string as input in the format as follows:\n",
    "\n",
    "- Add: `\"a + b\"`\n",
    "- Subtract: `\"a - b\"`\n",
    "- Multiply: `\"a * b\"`\n",
    "- Divide: `\"a / b\"`\n",
    "- Exponentiate: `\"a ** b\"`\n",
    "\n",
    "The numbers `a` and `b` are expected to be digits in the format 1, 1.0 or 1/1 – i.e., `int`, `float` or a fraction.\n",
    "\n",
    "## Special inputs\n",
    "Interactive calculator mode accepts some special inputs that steer the operations of the instance.\n",
    "\n",
    "- `'quit'` will break the loop, effectivelly making the calculator stop and close\n",
    "- `'add'` will reprompt for `n` (num) to add to calculator memory\n",
    "- `'m'` displays the current calculator memory\n",
    "- `'erase'` will reset calculator memory to 0"
   ]
  },
  {
   "cell_type": "code",
   "execution_count": 2,
   "id": "81541104",
   "metadata": {},
   "outputs": [
    {
     "name": "stdout",
     "output_type": "stream",
     "text": [
      "Enter the expression: add\n",
      "Add to memory: 4\n",
      "Enter the expression: m\n",
      "4.0\n",
      "Enter the expression: erase\n",
      "Enter the expression: m\n",
      "0\n",
      "Enter the expression: quit\n"
     ]
    }
   ],
   "source": [
    "import calculator as c\n",
    "\n",
    "calc = c.Calculator()\n",
    "calc.interactive()"
   ]
  }
 ],
 "metadata": {
  "kernelspec": {
   "display_name": "Python 3 (ipykernel)",
   "language": "python",
   "name": "python3"
  },
  "language_info": {
   "codemirror_mode": {
    "name": "ipython",
    "version": 3
   },
   "file_extension": ".py",
   "mimetype": "text/x-python",
   "name": "python",
   "nbconvert_exporter": "python",
   "pygments_lexer": "ipython3",
   "version": "3.11.7"
  }
 },
 "nbformat": 4,
 "nbformat_minor": 5
}
