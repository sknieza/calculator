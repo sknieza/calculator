{
 "cells": [
  {
   "cell_type": "markdown",
   "id": "58f4674a",
   "metadata": {},
   "source": [
    "# Demonstration of `calculator` methods\n",
    "\n",
    "The goal of this notebook is to present the functionality of `calculator` module, showing the application of its methods. As per the documentation, the `calculator` instance can:\n",
    "\n",
    "- Add two numbers together (a + b)\n",
    "- Subtract one number from another (a - b)\n",
    "- Multiply two numbers (a * b)\n",
    "- Divide number by another (a / b)\n",
    "- Raise the number by the power of another (a ** b)\n",
    "- Takes a number root by the degree of another num (a root^b)\n",
    "\n",
    "Every instance also has a default memory = 0, which can be increased or erased back to 0.\n",
    "\n",
    "### For a more detailed module description, refer to the documentation in Github. Now, we will focus on how these methods performs. First, let's import the calculator and define the list of numeric values that can be used with Calculator():"
   ]
  },
  {
   "cell_type": "code",
   "execution_count": 1,
   "id": "88ba6535",
   "metadata": {},
   "outputs": [],
   "source": [
    "import calculator as c\n",
    "import random\n",
    "\n",
    "\n",
    "digits = [0, 1 / 4, 2.0, 9, 3 / 8, 12]"
   ]
  },
  {
   "cell_type": "markdown",
   "id": "1710c111",
   "metadata": {},
   "source": [
    "### Check, if those values return the expected:"
   ]
  },
  {
   "cell_type": "code",
   "execution_count": 2,
   "id": "dc568adb",
   "metadata": {},
   "outputs": [
    {
     "name": "stdout",
     "output_type": "stream",
     "text": [
      "0\n",
      "0.25\n",
      "2.0\n",
      "9\n",
      "0.375\n",
      "12\n"
     ]
    }
   ],
   "source": [
    "for i in digits:\n",
    "    print(i)"
   ]
  },
  {
   "cell_type": "markdown",
   "id": "f27cc2c8",
   "metadata": {},
   "source": [
    "### Now, let's create the calculator object. It also has an interactive mode, which automatically prompts for inputs, but now we'll focus on importing and using separate methods. "
   ]
  },
  {
   "cell_type": "code",
   "execution_count": 3,
   "id": "d373c3e0",
   "metadata": {},
   "outputs": [],
   "source": [
    "calc = c.Calculator()"
   ]
  },
  {
   "cell_type": "markdown",
   "id": "0a6c96cd",
   "metadata": {},
   "source": [
    "### First, let's do some controlled trials of separate functions, to see how it performs."
   ]
  },
  {
   "cell_type": "markdown",
   "id": "f078fc74",
   "metadata": {},
   "source": [
    "#### Addition"
   ]
  },
  {
   "cell_type": "code",
   "execution_count": 4,
   "id": "da51ac29",
   "metadata": {},
   "outputs": [
    {
     "name": "stdout",
     "output_type": "stream",
     "text": [
      "Sum:  2.25\n"
     ]
    }
   ],
   "source": [
    "print(\"Sum: \", c.Calculator.sum(digits[2], digits[1]))"
   ]
  },
  {
   "cell_type": "markdown",
   "id": "8a2c3994",
   "metadata": {},
   "source": [
    "#### Subtraction"
   ]
  },
  {
   "cell_type": "code",
   "execution_count": 5,
   "id": "65e5d696",
   "metadata": {},
   "outputs": [
    {
     "name": "stdout",
     "output_type": "stream",
     "text": [
      "Subtraction:  7.0\n"
     ]
    }
   ],
   "source": [
    "print(\"Subtraction: \", c.Calculator.sub(digits[3], digits[2]))"
   ]
  },
  {
   "cell_type": "markdown",
   "id": "be134458",
   "metadata": {},
   "source": [
    "#### Multiplication"
   ]
  },
  {
   "cell_type": "code",
   "execution_count": 6,
   "id": "db9d46c5",
   "metadata": {},
   "outputs": [
    {
     "name": "stdout",
     "output_type": "stream",
     "text": [
      "Multiplication:  4.5\n"
     ]
    }
   ],
   "source": [
    "print(\"Multiplication: \", c.Calculator.mult(digits[5], digits[4]))"
   ]
  },
  {
   "cell_type": "markdown",
   "id": "5a721dfd",
   "metadata": {},
   "source": [
    "#### Division"
   ]
  },
  {
   "cell_type": "code",
   "execution_count": 7,
   "id": "75062615",
   "metadata": {},
   "outputs": [
    {
     "name": "stdout",
     "output_type": "stream",
     "text": [
      "Division:  1.5\n"
     ]
    }
   ],
   "source": [
    "print(\"Division: \", c.Calculator.div(digits[4], digits[1]))"
   ]
  },
  {
   "cell_type": "markdown",
   "id": "a8e07d0e",
   "metadata": {},
   "source": [
    "#### Exponentiation"
   ]
  },
  {
   "cell_type": "code",
   "execution_count": 8,
   "id": "e2ce61d0",
   "metadata": {},
   "outputs": [
    {
     "name": "stdout",
     "output_type": "stream",
     "text": [
      "Exponentiation:  81.0\n"
     ]
    }
   ],
   "source": [
    "print(\"Exponentiation: \", c.Calculator.pow(digits[3], digits[2]))"
   ]
  },
  {
   "cell_type": "markdown",
   "id": "b42834e2",
   "metadata": {},
   "source": [
    "#### Root"
   ]
  },
  {
   "cell_type": "code",
   "execution_count": 9,
   "id": "f6584355",
   "metadata": {},
   "outputs": [
    {
     "name": "stdout",
     "output_type": "stream",
     "text": [
      "Root by:  3.0\n"
     ]
    }
   ],
   "source": [
    "print(\"Root by: \", c.Calculator.root(digits[3], digits[2]))"
   ]
  },
  {
   "cell_type": "markdown",
   "id": "fb0d473e",
   "metadata": {},
   "source": [
    "### Naturally, some contraints are unavoidable. Trying to divide by zero raises `ZeroDivisionError`"
   ]
  },
  {
   "cell_type": "code",
   "execution_count": 10,
   "id": "abbab1a5",
   "metadata": {},
   "outputs": [
    {
     "name": "stdout",
     "output_type": "stream",
     "text": [
      "9/0: Dividing by zero impossible\n"
     ]
    }
   ],
   "source": [
    "try:\n",
    "    print(c.Calculator.div(digits[3], 0))\n",
    "except ZeroDivisionError:\n",
    "    print(\"9/0: Dividing by zero impossible\")"
   ]
  },
  {
   "cell_type": "markdown",
   "id": "ae8858b4",
   "metadata": {},
   "source": [
    "### Finally, let's do some randomized trials to see how the `calc` instance operates with numbers, We'll use the `digits` list already defined, but now the inputs will be defined randomly. "
   ]
  },
  {
   "cell_type": "code",
   "execution_count": 11,
   "id": "343e98d2",
   "metadata": {},
   "outputs": [],
   "source": [
    "length = len(digits)"
   ]
  },
  {
   "cell_type": "code",
   "execution_count": 12,
   "id": "8db58adb",
   "metadata": {},
   "outputs": [
    {
     "name": "stdout",
     "output_type": "stream",
     "text": [
      "Addition\n",
      "a:  2.0 b:  0 Sum:  2.0\n",
      "a:  2.0 b:  0.25 Sum:  2.25\n",
      "a:  0.375 b:  9 Sum:  9.375\n",
      "a:  9 b:  9 Sum:  18.0\n",
      "a:  0.25 b:  0.25 Sum:  0.5\n",
      "a:  0.375 b:  12 Sum:  12.375\n"
     ]
    }
   ],
   "source": [
    "print(\"Addition\")\n",
    "for i in range(length):\n",
    "    try:\n",
    "        a = random.choice(digits)\n",
    "        b = random.choice(digits)\n",
    "        print(\"a: \", a, \"b: \", b, \"Sum: \", c.Calculator.sum(a, b))\n",
    "    except ZeroDivisionError:\n",
    "        continue"
   ]
  },
  {
   "cell_type": "code",
   "execution_count": 13,
   "id": "ee79e9b2",
   "metadata": {},
   "outputs": [
    {
     "name": "stdout",
     "output_type": "stream",
     "text": [
      "Subtraction\n",
      "a:  0.375 b:  9 Sub:  -8.625\n",
      "a:  9 b:  2.0 Sub:  7.0\n",
      "a:  2.0 b:  9 Sub:  -7.0\n",
      "a:  0.375 b:  0.375 Sub:  0.0\n",
      "a:  12 b:  12 Sub:  0.0\n",
      "a:  0.25 b:  0.375 Sub:  -0.125\n"
     ]
    }
   ],
   "source": [
    "print(\"Subtraction\")\n",
    "for i in range(length):\n",
    "    try:\n",
    "        a = random.choice(digits)\n",
    "        b = random.choice(digits)\n",
    "        print(\"a: \", a, \"b: \", b, \"Sub: \", c.Calculator.sub(a, b))\n",
    "    except ZeroDivisionError:\n",
    "        continue"
   ]
  },
  {
   "cell_type": "code",
   "execution_count": 14,
   "id": "bab84fdc",
   "metadata": {},
   "outputs": [
    {
     "name": "stdout",
     "output_type": "stream",
     "text": [
      "Multiplication\n",
      "a:  2.0 b:  2.0 Multiplication:  4.0\n",
      "a:  0.375 b:  0.375 Multiplication:  0.140625\n",
      "a:  2.0 b:  0 Multiplication:  0.0\n",
      "a:  9 b:  12 Multiplication:  108.0\n",
      "a:  12 b:  2.0 Multiplication:  24.0\n",
      "a:  9 b:  0.375 Multiplication:  3.375\n"
     ]
    }
   ],
   "source": [
    "print(\"Multiplication\")\n",
    "for i in range(length):\n",
    "    try:\n",
    "        a = random.choice(digits)\n",
    "        b = random.choice(digits)\n",
    "        print(\"a: \", a, \"b: \", b, \"Multiplication: \", c.Calculator.mult(a, b))\n",
    "    except ZeroDivisionError:\n",
    "        continue"
   ]
  },
  {
   "cell_type": "code",
   "execution_count": 15,
   "id": "f34f0744",
   "metadata": {},
   "outputs": [
    {
     "name": "stdout",
     "output_type": "stream",
     "text": [
      "Division\n",
      "a:  2.0 b:  9 Division:  0.22222\n",
      "a:  0.375 b:  0.25 Division:  1.5\n",
      "a:  0 b:  12 Division:  0.0\n",
      "a:  9 b:  0.375 Division:  24.0\n",
      "a:  2.0 b:  0.25 Division:  8.0\n",
      "a:  0 b:  0.375 Division:  0.0\n"
     ]
    }
   ],
   "source": [
    "print(\"Division\")\n",
    "for i in range(length):\n",
    "    try:\n",
    "        a = random.choice(digits)\n",
    "        b = random.choice(digits)\n",
    "        print(\"a: \", a, \"b: \", b, \"Division: \", c.Calculator.div(a, b))\n",
    "    except ZeroDivisionError:\n",
    "        continue"
   ]
  },
  {
   "cell_type": "code",
   "execution_count": 16,
   "id": "56100731",
   "metadata": {},
   "outputs": [
    {
     "name": "stdout",
     "output_type": "stream",
     "text": [
      "Exponentiation\n",
      "a:  0 b:  9 Exponentiation:  0.0\n",
      "a:  0.25 b:  9 Exponentiation:  3.814697265625e-06\n",
      "a:  0.25 b:  0.25 Exponentiation:  0.7071067811865476\n",
      "a:  0.25 b:  12 Exponentiation:  5.960464477539063e-08\n",
      "a:  9 b:  2.0 Exponentiation:  81.0\n",
      "a:  0.375 b:  12 Exponentiation:  7.733484380878508e-06\n"
     ]
    }
   ],
   "source": [
    "print(\"Exponentiation\")\n",
    "for i in range(length):\n",
    "    try:\n",
    "        a = random.choice(digits)\n",
    "        b = random.choice(digits)\n",
    "        print(\"a: \", a, \"b: \", b, \"Exponentiation: \", c.Calculator.pow(a, b))\n",
    "    except ZeroDivisionError:\n",
    "        continue"
   ]
  },
  {
   "cell_type": "code",
   "execution_count": 17,
   "id": "ad2494d2",
   "metadata": {},
   "outputs": [
    {
     "name": "stdout",
     "output_type": "stream",
     "text": [
      "Root\n",
      "a:  9 b:  0.25 Root:  6561.0\n",
      "a:  0.375 b:  12 Root:  0.92152\n",
      "a:  12 b:  0.25 Root:  20736.0\n",
      "a:  9 b:  0.375 Root:  350.46665\n",
      "a:  12 b:  0.375 Root:  754.77352\n",
      "a:  0.375 b:  0.375 Root:  0.07313\n"
     ]
    }
   ],
   "source": [
    "print(\"Root\")\n",
    "for i in range(length):\n",
    "    try:\n",
    "        a = random.choice(digits)\n",
    "        b = random.choice(digits)\n",
    "        print(\"a: \", a, \"b: \", b, \"Root: \", c.Calculator.root(a, b))\n",
    "    except ZeroDivisionError:\n",
    "        continue"
   ]
  },
  {
   "cell_type": "markdown",
   "id": "2fb56907",
   "metadata": {},
   "source": [
    "### One final functionality to demonstrate is `memory`. Initially, it is set to 0, but `calc.add(n)` function increases it by `n`, and `calc.erase()` resets it back to 0. "
   ]
  },
  {
   "cell_type": "code",
   "execution_count": 18,
   "id": "1dd4fc04",
   "metadata": {},
   "outputs": [
    {
     "name": "stdout",
     "output_type": "stream",
     "text": [
      "0\n"
     ]
    }
   ],
   "source": [
    "x = calc.memory\n",
    "print(x)"
   ]
  },
  {
   "cell_type": "markdown",
   "id": "af2202c3",
   "metadata": {},
   "source": [
    "#### Adding 10 to memory:"
   ]
  },
  {
   "cell_type": "code",
   "execution_count": 19,
   "id": "a820db46",
   "metadata": {},
   "outputs": [
    {
     "name": "stdout",
     "output_type": "stream",
     "text": [
      "10\n"
     ]
    }
   ],
   "source": [
    "calc.add(10)\n",
    "x = calc.memory\n",
    "print(x)"
   ]
  },
  {
   "cell_type": "markdown",
   "id": "7ac2448d",
   "metadata": {},
   "source": [
    "#### Erasing the memory"
   ]
  },
  {
   "cell_type": "code",
   "execution_count": 20,
   "id": "a7bc4f7d",
   "metadata": {},
   "outputs": [
    {
     "name": "stdout",
     "output_type": "stream",
     "text": [
      "0\n"
     ]
    }
   ],
   "source": [
    "calc.erase()\n",
    "x = calc.memory\n",
    "print(x)"
   ]
  },
  {
   "cell_type": "markdown",
   "id": "cb0e25fd",
   "metadata": {},
   "source": [
    "#### Using the memory in operations"
   ]
  },
  {
   "cell_type": "code",
   "execution_count": 21,
   "id": "f0d554ca",
   "metadata": {},
   "outputs": [
    {
     "name": "stdout",
     "output_type": "stream",
     "text": [
      "14.0\n"
     ]
    }
   ],
   "source": [
    "calc.add(10)\n",
    "x = calc.memory\n",
    "\n",
    "print(calc.sum(x, 4))"
   ]
  },
  {
   "cell_type": "code",
   "execution_count": 22,
   "id": "632a51f6",
   "metadata": {},
   "outputs": [
    {
     "name": "stdout",
     "output_type": "stream",
     "text": [
      "20.0\n"
     ]
    }
   ],
   "source": [
    "calc.add(5)\n",
    "x = calc.memory\n",
    "y = calc.div(50, 10)\n",
    "\n",
    "print(calc.sum(x, y))"
   ]
  }
 ],
 "metadata": {
  "kernelspec": {
   "display_name": "Python 3 (ipykernel)",
   "language": "python",
   "name": "python3"
  },
  "language_info": {
   "codemirror_mode": {
    "name": "ipython",
    "version": 3
   },
   "file_extension": ".py",
   "mimetype": "text/x-python",
   "name": "python",
   "nbconvert_exporter": "python",
   "pygments_lexer": "ipython3",
   "version": "3.11.7"
  }
 },
 "nbformat": 4,
 "nbformat_minor": 5
}
